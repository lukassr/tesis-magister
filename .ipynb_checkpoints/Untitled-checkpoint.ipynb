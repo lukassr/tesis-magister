{
 "cells": [
  {
   "cell_type": "code",
   "execution_count": 24,
   "metadata": {},
   "outputs": [
    {
     "data": {
      "text/html": [
       "<div>\n",
       "<style scoped>\n",
       "    .dataframe tbody tr th:only-of-type {\n",
       "        vertical-align: middle;\n",
       "    }\n",
       "\n",
       "    .dataframe tbody tr th {\n",
       "        vertical-align: top;\n",
       "    }\n",
       "\n",
       "    .dataframe thead th {\n",
       "        text-align: right;\n",
       "    }\n",
       "</style>\n",
       "<table border=\"1\" class=\"dataframe\">\n",
       "  <thead>\n",
       "    <tr style=\"text-align: right;\">\n",
       "      <th></th>\n",
       "      <th>region</th>\n",
       "      <th>gridX</th>\n",
       "      <th>gridY</th>\n",
       "    </tr>\n",
       "  </thead>\n",
       "  <tbody>\n",
       "    <tr>\n",
       "      <th>0</th>\n",
       "      <td>María Pinto</td>\n",
       "      <td>1</td>\n",
       "      <td>2</td>\n",
       "    </tr>\n",
       "    <tr>\n",
       "      <th>1</th>\n",
       "      <td>San Pedro</td>\n",
       "      <td>0</td>\n",
       "      <td>5</td>\n",
       "    </tr>\n",
       "    <tr>\n",
       "      <th>2</th>\n",
       "      <td>Independencia</td>\n",
       "      <td>5</td>\n",
       "      <td>1</td>\n",
       "    </tr>\n",
       "    <tr>\n",
       "      <th>3</th>\n",
       "      <td>La Florida</td>\n",
       "      <td>8</td>\n",
       "      <td>4</td>\n",
       "    </tr>\n",
       "    <tr>\n",
       "      <th>4</th>\n",
       "      <td>Lo Barnechea</td>\n",
       "      <td>8</td>\n",
       "      <td>0</td>\n",
       "    </tr>\n",
       "  </tbody>\n",
       "</table>\n",
       "</div>"
      ],
      "text/plain": [
       "          region  gridX  gridY\n",
       "0    María Pinto      1      2\n",
       "1      San Pedro      0      5\n",
       "2  Independencia      5      1\n",
       "3     La Florida      8      4\n",
       "4   Lo Barnechea      8      0"
      ]
     },
     "execution_count": 24,
     "metadata": {},
     "output_type": "execute_result"
    }
   ],
   "source": [
    "import pandas as pd\n",
    "import re\n",
    "import json\n",
    "\n",
    "df = pd.read_csv('grid-rm.tsv',sep='\\t')\n",
    "df.head()"
   ]
  },
  {
   "cell_type": "code",
   "execution_count": 3,
   "metadata": {},
   "outputs": [],
   "source": [
    "df.to_json(\"data.json\")"
   ]
  },
  {
   "cell_type": "code",
   "execution_count": 26,
   "metadata": {},
   "outputs": [
    {
     "name": "stdout",
     "output_type": "stream",
     "text": [
      "María Pinto\n",
      "San Pedro\n",
      "Independencia\n",
      "La Florida\n",
      "Lo Barnechea\n",
      "Lo Espejo\n",
      "Lo Prado\n",
      "Pedro Aguirre Cerda\n",
      "Pudahuel\n",
      "San Joaquín\n",
      "San Ramón\n",
      "El Monte\n",
      "Isla de Maipo\n",
      "Talagante\n",
      "Colina\n",
      "Lampa\n",
      "Tiltil\n",
      "Pirque\n",
      "Puente Alto\n",
      "San José de Maipo\n",
      "Buin\n",
      "Paine\n",
      "San Bernardo\n",
      "Alhué\n",
      "Curacaví\n",
      "Calera de Tango\n",
      "Melipilla\n",
      "Cerrillos\n",
      "Cerro Navia\n",
      "Conchalí\n",
      "El Bosque\n",
      "Peñalolén\n",
      "Providencia\n",
      "Quilicura\n",
      "Vitacura\n",
      "Padre Hurtado\n",
      "Quinta Normal\n",
      "Recoleta\n",
      "Renca\n",
      "San Miguel\n",
      "Santiago\n",
      "Huechuraba\n",
      "La Cisterna\n",
      "La Granja\n",
      "La Pintana\n",
      "La Reina\n",
      "Las Condes\n",
      "Macul\n",
      "Maipú\n",
      "Ñuñoa\n",
      "Peñaflor\n",
      "Estación Central\n"
     ]
    }
   ],
   "source": [
    "with open('output.json','w') as f:\n",
    "    f.write('{')\n",
    "    for k,v in df.T.to_dict().items():\n",
    "        f.write(\"'\"+str(v[\"region\"])+\"':\"+\"{x:\"+str(v[\"gridX\"])+\",y:\"+str(v[\"gridY\"])+\"},\\n\")\n",
    "    f.write(\"}\")\n",
    "\n",
    "# with open('whatever.json', 'w') as f:\n",
    "#     f.write('var results = [\\n')\n",
    "#     for k,v in df.drop('B1_EMS_DH26', axis=1).T.to_dict().items():\n",
    "#         f.write(\"{name:\"+json.dumps(k)+\", \"+re.sub(r'[{\"\\']', '', json.dumps(v))+',\\n')\n",
    "#     f.write('];')"
   ]
  },
  {
   "cell_type": "code",
   "execution_count": null,
   "metadata": {},
   "outputs": [],
   "source": []
  },
  {
   "cell_type": "code",
   "execution_count": null,
   "metadata": {},
   "outputs": [],
   "source": []
  },
  {
   "cell_type": "code",
   "execution_count": null,
   "metadata": {},
   "outputs": [],
   "source": []
  }
 ],
 "metadata": {
  "kernelspec": {
   "display_name": "Python 3",
   "language": "python",
   "name": "python3"
  },
  "language_info": {
   "codemirror_mode": {
    "name": "ipython",
    "version": 3
   },
   "file_extension": ".py",
   "mimetype": "text/x-python",
   "name": "python",
   "nbconvert_exporter": "python",
   "pygments_lexer": "ipython3",
   "version": "3.7.2"
  }
 },
 "nbformat": 4,
 "nbformat_minor": 2
}
